{
 "cells": [
  {
   "cell_type": "code",
   "execution_count": null,
   "id": "5f97dc2c",
   "metadata": {},
   "outputs": [],
   "source": [
    "# 0.1 Importing libraries\n",
    "import pandas as pd\n",
    "import numpy as np\n",
    "import os "
   ]
  },
  {
   "cell_type": "code",
   "execution_count": null,
   "id": "822a61a2",
   "metadata": {},
   "outputs": [],
   "source": [
    "## 0.2 Working with python data types"
   ]
  },
  {
   "cell_type": "code",
   "execution_count": 2,
   "id": "f6fc45bf",
   "metadata": {},
   "outputs": [],
   "source": [
    "x = 100"
   ]
  },
  {
   "cell_type": "code",
   "execution_count": 3,
   "id": "bfbe1c4a",
   "metadata": {},
   "outputs": [
    {
     "data": {
      "text/plain": [
       "100"
      ]
     },
     "execution_count": 3,
     "metadata": {},
     "output_type": "execute_result"
    }
   ],
   "source": [
    "x"
   ]
  },
  {
   "cell_type": "code",
   "execution_count": 4,
   "id": "09e4cfa5",
   "metadata": {},
   "outputs": [
    {
     "name": "stdout",
     "output_type": "stream",
     "text": [
      "100\n"
     ]
    }
   ],
   "source": [
    "print(x)"
   ]
  },
  {
   "cell_type": "code",
   "execution_count": null,
   "id": "78687b92",
   "metadata": {},
   "outputs": [],
   "source": [
    "print(x)"
   ]
  },
  {
   "cell_type": "code",
   "execution_count": 5,
   "id": "25ad8bd2",
   "metadata": {},
   "outputs": [
    {
     "data": {
      "text/plain": [
       "100"
      ]
     },
     "execution_count": 5,
     "metadata": {},
     "output_type": "execute_result"
    }
   ],
   "source": [
    "x*1"
   ]
  },
  {
   "cell_type": "code",
   "execution_count": 6,
   "id": "50fe22c0",
   "metadata": {},
   "outputs": [
    {
     "data": {
      "text/plain": [
       "100"
      ]
     },
     "execution_count": 6,
     "metadata": {},
     "output_type": "execute_result"
    }
   ],
   "source": [
    "x-50+50"
   ]
  },
  {
   "cell_type": "code",
   "execution_count": 8,
   "id": "643ce5e1",
   "metadata": {},
   "outputs": [
    {
     "data": {
      "text/plain": [
       "100"
      ]
     },
     "execution_count": 8,
     "metadata": {},
     "output_type": "execute_result"
    }
   ],
   "source": [
    "x+0"
   ]
  },
  {
   "cell_type": "code",
   "execution_count": 19,
   "id": "bedd65a3",
   "metadata": {},
   "outputs": [],
   "source": [
    "num1 = 83.5"
   ]
  },
  {
   "cell_type": "code",
   "execution_count": null,
   "id": "05967d69",
   "metadata": {},
   "outputs": [],
   "source": [
    "num2 = 10.5 "
   ]
  },
  {
   "cell_type": "code",
   "execution_count": 39,
   "id": "bafab2cd",
   "metadata": {},
   "outputs": [
    {
     "data": {
      "text/plain": [
       "float"
      ]
     },
     "execution_count": 39,
     "metadata": {},
     "output_type": "execute_result"
    }
   ],
   "source": [
    "type(83.5/10.5)"
   ]
  },
  {
   "cell_type": "code",
   "execution_count": 43,
   "id": "90b365b0",
   "metadata": {},
   "outputs": [],
   "source": [
    "c = 'Welcome, '"
   ]
  },
  {
   "cell_type": "code",
   "execution_count": 44,
   "id": "6416b112",
   "metadata": {},
   "outputs": [],
   "source": [
    "d = 'Dear'"
   ]
  },
  {
   "cell_type": "code",
   "execution_count": 45,
   "id": "45a1976d",
   "metadata": {},
   "outputs": [
    {
     "data": {
      "text/plain": [
       "'Welcome, Dear'"
      ]
     },
     "execution_count": 45,
     "metadata": {},
     "output_type": "execute_result"
    }
   ],
   "source": [
    "c + d "
   ]
  },
  {
   "cell_type": "code",
   "execution_count": 47,
   "id": "37644a3c",
   "metadata": {},
   "outputs": [],
   "source": [
    " f = 'Awesome'"
   ]
  },
  {
   "cell_type": "code",
   "execution_count": 48,
   "id": "b0753a82",
   "metadata": {},
   "outputs": [
    {
     "data": {
      "text/plain": [
       "'Awesome'"
      ]
     },
     "execution_count": 48,
     "metadata": {},
     "output_type": "execute_result"
    }
   ],
   "source": [
    "f"
   ]
  },
  {
   "cell_type": "code",
   "execution_count": 51,
   "id": "64ccad7a",
   "metadata": {},
   "outputs": [],
   "source": [
    "g = 'Amazing'"
   ]
  },
  {
   "cell_type": "code",
   "execution_count": 52,
   "id": "f00180c5",
   "metadata": {},
   "outputs": [
    {
     "data": {
      "text/plain": [
       "'Amazing'"
      ]
     },
     "execution_count": 52,
     "metadata": {},
     "output_type": "execute_result"
    }
   ],
   "source": [
    "g"
   ]
  }
 ],
 "metadata": {
  "kernelspec": {
   "display_name": "Python 3 (ipykernel)",
   "language": "python",
   "name": "python3"
  },
  "language_info": {
   "codemirror_mode": {
    "name": "ipython",
    "version": 3
   },
   "file_extension": ".py",
   "mimetype": "text/x-python",
   "name": "python",
   "nbconvert_exporter": "python",
   "pygments_lexer": "ipython3",
   "version": "3.8.13"
  }
 },
 "nbformat": 4,
 "nbformat_minor": 5
}
