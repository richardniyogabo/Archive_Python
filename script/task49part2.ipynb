{
 "cells": [
  {
   "cell_type": "markdown",
   "id": "959cbdc5",
   "metadata": {},
   "source": [
    "# Task 4.9 Part 2 "
   ]
  },
  {
   "cell_type": "code",
   "execution_count": 2,
   "id": "5db51725",
   "metadata": {},
   "outputs": [],
   "source": [
    "# Importing libraries\n",
    "\n",
    "import pandas as pd\n",
    "import numpy as np\n",
    "import os\n",
    "import matplotlib.pyplot as plt\n",
    "import seaborn as sns\n",
    "import scipy"
   ]
  },
  {
   "cell_type": "code",
   "execution_count": 3,
   "id": "496fc550",
   "metadata": {},
   "outputs": [],
   "source": [
    "#Defining path\n",
    "path = r'/Users/richardniyongabo/Desktop/Tasks_4.6_richard'"
   ]
  },
  {
   "cell_type": "code",
   "execution_count": 4,
   "id": "66a7bd23",
   "metadata": {},
   "outputs": [],
   "source": [
    "# Import data\n",
    "\n",
    "full_merge = pd.read_pickle(os.path.join(path, 'full_merge.pkl'))"
   ]
  },
  {
   "cell_type": "code",
   "execution_count": 5,
   "id": "def54328",
   "metadata": {},
   "outputs": [
    {
     "data": {
      "text/plain": [
       "(32434212, 36)"
      ]
     },
     "execution_count": 5,
     "metadata": {},
     "output_type": "execute_result"
    }
   ],
   "source": [
    "# Check output.\n",
    "\n",
    "full_merge.shape"
   ]
  },
  {
   "cell_type": "code",
   "execution_count": 6,
   "id": "2617741f",
   "metadata": {
    "scrolled": true
   },
   "outputs": [
    {
     "data": {
      "text/html": [
       "<div>\n",
       "<style scoped>\n",
       "    .dataframe tbody tr th:only-of-type {\n",
       "        vertical-align: middle;\n",
       "    }\n",
       "\n",
       "    .dataframe tbody tr th {\n",
       "        vertical-align: top;\n",
       "    }\n",
       "\n",
       "    .dataframe thead th {\n",
       "        text-align: right;\n",
       "    }\n",
       "</style>\n",
       "<table border=\"1\" class=\"dataframe\">\n",
       "  <thead>\n",
       "    <tr style=\"text-align: right;\">\n",
       "      <th></th>\n",
       "      <th>order_id</th>\n",
       "      <th>product_id</th>\n",
       "      <th>add_to_cart_order</th>\n",
       "      <th>reordered</th>\n",
       "      <th>Unnamed: 0</th>\n",
       "      <th>user_id</th>\n",
       "      <th>eval_set</th>\n",
       "      <th>order_number</th>\n",
       "      <th>order_dow</th>\n",
       "      <th>order_hour_of_day</th>\n",
       "      <th>...</th>\n",
       "      <th>frequency_flag</th>\n",
       "      <th>first_name</th>\n",
       "      <th>last_name</th>\n",
       "      <th>gender</th>\n",
       "      <th>state</th>\n",
       "      <th>age</th>\n",
       "      <th>date_joined</th>\n",
       "      <th>number_of_dependents</th>\n",
       "      <th>marital_status</th>\n",
       "      <th>income</th>\n",
       "    </tr>\n",
       "  </thead>\n",
       "  <tbody>\n",
       "    <tr>\n",
       "      <th>0</th>\n",
       "      <td>2</td>\n",
       "      <td>33120</td>\n",
       "      <td>1</td>\n",
       "      <td>1</td>\n",
       "      <td>3355525</td>\n",
       "      <td>202279</td>\n",
       "      <td>prior</td>\n",
       "      <td>3</td>\n",
       "      <td>5</td>\n",
       "      <td>9</td>\n",
       "      <td>...</td>\n",
       "      <td>Non-frequent customer</td>\n",
       "      <td>Paul</td>\n",
       "      <td>Coleman</td>\n",
       "      <td>Male</td>\n",
       "      <td>Idaho</td>\n",
       "      <td>57</td>\n",
       "      <td>2/6/2020</td>\n",
       "      <td>3</td>\n",
       "      <td>married</td>\n",
       "      <td>98119</td>\n",
       "    </tr>\n",
       "    <tr>\n",
       "      <th>1</th>\n",
       "      <td>104690</td>\n",
       "      <td>33120</td>\n",
       "      <td>2</td>\n",
       "      <td>1</td>\n",
       "      <td>3355530</td>\n",
       "      <td>202279</td>\n",
       "      <td>prior</td>\n",
       "      <td>8</td>\n",
       "      <td>6</td>\n",
       "      <td>10</td>\n",
       "      <td>...</td>\n",
       "      <td>Non-frequent customer</td>\n",
       "      <td>Paul</td>\n",
       "      <td>Coleman</td>\n",
       "      <td>Male</td>\n",
       "      <td>Idaho</td>\n",
       "      <td>57</td>\n",
       "      <td>2/6/2020</td>\n",
       "      <td>3</td>\n",
       "      <td>married</td>\n",
       "      <td>98119</td>\n",
       "    </tr>\n",
       "    <tr>\n",
       "      <th>2</th>\n",
       "      <td>132412</td>\n",
       "      <td>33120</td>\n",
       "      <td>1</td>\n",
       "      <td>1</td>\n",
       "      <td>3355528</td>\n",
       "      <td>202279</td>\n",
       "      <td>prior</td>\n",
       "      <td>6</td>\n",
       "      <td>5</td>\n",
       "      <td>9</td>\n",
       "      <td>...</td>\n",
       "      <td>Non-frequent customer</td>\n",
       "      <td>Paul</td>\n",
       "      <td>Coleman</td>\n",
       "      <td>Male</td>\n",
       "      <td>Idaho</td>\n",
       "      <td>57</td>\n",
       "      <td>2/6/2020</td>\n",
       "      <td>3</td>\n",
       "      <td>married</td>\n",
       "      <td>98119</td>\n",
       "    </tr>\n",
       "    <tr>\n",
       "      <th>3</th>\n",
       "      <td>2808715</td>\n",
       "      <td>33120</td>\n",
       "      <td>1</td>\n",
       "      <td>1</td>\n",
       "      <td>3355527</td>\n",
       "      <td>202279</td>\n",
       "      <td>prior</td>\n",
       "      <td>5</td>\n",
       "      <td>5</td>\n",
       "      <td>13</td>\n",
       "      <td>...</td>\n",
       "      <td>Non-frequent customer</td>\n",
       "      <td>Paul</td>\n",
       "      <td>Coleman</td>\n",
       "      <td>Male</td>\n",
       "      <td>Idaho</td>\n",
       "      <td>57</td>\n",
       "      <td>2/6/2020</td>\n",
       "      <td>3</td>\n",
       "      <td>married</td>\n",
       "      <td>98119</td>\n",
       "    </tr>\n",
       "    <tr>\n",
       "      <th>4</th>\n",
       "      <td>2894949</td>\n",
       "      <td>33120</td>\n",
       "      <td>5</td>\n",
       "      <td>0</td>\n",
       "      <td>3355523</td>\n",
       "      <td>202279</td>\n",
       "      <td>prior</td>\n",
       "      <td>1</td>\n",
       "      <td>5</td>\n",
       "      <td>9</td>\n",
       "      <td>...</td>\n",
       "      <td>Non-frequent customer</td>\n",
       "      <td>Paul</td>\n",
       "      <td>Coleman</td>\n",
       "      <td>Male</td>\n",
       "      <td>Idaho</td>\n",
       "      <td>57</td>\n",
       "      <td>2/6/2020</td>\n",
       "      <td>3</td>\n",
       "      <td>married</td>\n",
       "      <td>98119</td>\n",
       "    </tr>\n",
       "  </tbody>\n",
       "</table>\n",
       "<p>5 rows × 36 columns</p>\n",
       "</div>"
      ],
      "text/plain": [
       "   order_id  product_id  add_to_cart_order  reordered  Unnamed: 0  user_id  \\\n",
       "0         2       33120                  1          1     3355525   202279   \n",
       "1    104690       33120                  2          1     3355530   202279   \n",
       "2    132412       33120                  1          1     3355528   202279   \n",
       "3   2808715       33120                  1          1     3355527   202279   \n",
       "4   2894949       33120                  5          0     3355523   202279   \n",
       "\n",
       "  eval_set  order_number  order_dow  order_hour_of_day  ...  \\\n",
       "0    prior             3          5                  9  ...   \n",
       "1    prior             8          6                 10  ...   \n",
       "2    prior             6          5                  9  ...   \n",
       "3    prior             5          5                 13  ...   \n",
       "4    prior             1          5                  9  ...   \n",
       "\n",
       "          frequency_flag  first_name last_name  gender  state  age  \\\n",
       "0  Non-frequent customer        Paul   Coleman    Male  Idaho   57   \n",
       "1  Non-frequent customer        Paul   Coleman    Male  Idaho   57   \n",
       "2  Non-frequent customer        Paul   Coleman    Male  Idaho   57   \n",
       "3  Non-frequent customer        Paul   Coleman    Male  Idaho   57   \n",
       "4  Non-frequent customer        Paul   Coleman    Male  Idaho   57   \n",
       "\n",
       "  date_joined number_of_dependents marital_status income  \n",
       "0    2/6/2020                    3        married  98119  \n",
       "1    2/6/2020                    3        married  98119  \n",
       "2    2/6/2020                    3        married  98119  \n",
       "3    2/6/2020                    3        married  98119  \n",
       "4    2/6/2020                    3        married  98119  \n",
       "\n",
       "[5 rows x 36 columns]"
      ]
     },
     "execution_count": 6,
     "metadata": {},
     "output_type": "execute_result"
    }
   ],
   "source": [
    "full_merge.head()"
   ]
  },
  {
   "cell_type": "markdown",
   "id": "8a57e383",
   "metadata": {},
   "source": [
    "# Creating a bar chart, a histogram, a scatterplot, and a line chart, using a sample subset for the line chart."
   ]
  },
  {
   "cell_type": "code",
   "execution_count": 7,
   "id": "996ca935",
   "metadata": {},
   "outputs": [
    {
     "data": {
      "image/png": "[encoded data removed]",
      "text/plain": [
       "<Figure size 432x288 with 1 Axes>"
      ]
     },
     "metadata": {
      "needs_background": "light"
     },
     "output_type": "display_data"
    }
   ],
   "source": [
    "# Create bar chart\n",
    "\n",
    "bar = full_merge['order_dow'].value_counts().sort_index().plot.bar(color = ['blue', 'yellow', 'green'])"
   ]
  },
  {
   "cell_type": "code",
   "execution_count": 11,
   "id": "20d8bf49",
   "metadata": {},
   "outputs": [
    {
     "data": {
      "image/png": "[encoded data removed]",
      "text/plain": [
       "<Figure size 432x288 with 1 Axes>"
      ]
     },
     "metadata": {
      "needs_background": "light"
     },
     "output_type": "display_data"
    }
   ],
   "source": [
    "# Create histogram\n",
    "\n",
    "hist = full_merge['income'].plot.hist(bins = 100)"
   ]
  },
  {
   "cell_type": "code",
   "execution_count": 12,
   "id": "e399ce24",
   "metadata": {},
   "outputs": [
    {
     "data": {
      "image/png": "[encoded data removed]",
      "text/plain": [
       "<Figure size 432x288 with 1 Axes>"
      ]
     },
     "metadata": {
      "needs_background": "light"
     },
     "output_type": "display_data"
    }
   ],
   "source": [
    "# Create scatterplot\n",
    "\n",
    "splot = sns.scatterplot(x = 'income', y = 'income', data = full_merge)"
   ]
  },
  {
   "cell_type": "code",
   "execution_count": 13,
   "id": "1fb01372",
   "metadata": {},
   "outputs": [],
   "source": [
    "# Set the seed\n",
    "\n",
    "np.random.seed(4)"
   ]
  },
  {
   "cell_type": "code",
   "execution_count": 14,
   "id": "7c4bd26d",
   "metadata": {},
   "outputs": [],
   "source": [
    "# Create a list holding True/False values to the test np.random.rand() <= 0.7\n",
    "\n",
    "dev = np.random.rand(len(full_merge)) <= 0.7"
   ]
  },
  {
   "cell_type": "code",
   "execution_count": 15,
   "id": "317c0d1d",
   "metadata": {},
   "outputs": [],
   "source": [
    "# Store 70% of the sample in the dataframe big\n",
    "\n",
    "big = full_merge[dev]"
   ]
  },
  {
   "cell_type": "code",
   "execution_count": 16,
   "id": "8529d136",
   "metadata": {},
   "outputs": [],
   "source": [
    "# Store 30% of the sample in the dataframe small\n",
    "\n",
    "small = full_merge[~dev]"
   ]
  },
  {
   "cell_type": "code",
   "execution_count": 17,
   "id": "e05b269c",
   "metadata": {},
   "outputs": [
    {
     "data": {
      "text/plain": [
       "32434212"
      ]
     },
     "execution_count": 17,
     "metadata": {},
     "output_type": "execute_result"
    }
   ],
   "source": [
    "# Check code execution accuracy\n",
    "\n",
    "len(full_merge)"
   ]
  },
  {
   "cell_type": "code",
   "execution_count": 18,
   "id": "1498b772",
   "metadata": {},
   "outputs": [
    {
     "data": {
      "text/plain": [
       "32434212"
      ]
     },
     "execution_count": 18,
     "metadata": {},
     "output_type": "execute_result"
    }
   ],
   "source": [
    "len(big) + len(small)"
   ]
  },
  {
   "cell_type": "code",
   "execution_count": 19,
   "id": "d45b1716",
   "metadata": {},
   "outputs": [],
   "source": [
    "# Reduce output to only necessary columns for chart\n",
    "\n",
    "full_merge_2 = small[['order_dow', 'prices']]"
   ]
  },
  {
   "cell_type": "code",
   "execution_count": 20,
   "id": "24e907cc",
   "metadata": {
    "scrolled": true
   },
   "outputs": [
    {
     "data": {
      "image/png": "[encoded data removed]",
      "text/plain": [
       "<Figure size 432x288 with 1 Axes>"
      ]
     },
     "metadata": {
      "needs_background": "light"
     },
     "output_type": "display_data"
    }
   ],
   "source": [
    "# Create line chart from sample\n",
    "\n",
    "line = sns.lineplot(data = full_merge_2, x = 'order_dow', y = 'prices')"
   ]
  },
  {
   "cell_type": "markdown",
   "id": "0724e00c",
   "metadata": {},
   "source": [
    "# Creating a histogram of the “order_hour_of_day” column"
   ]
  },
  {
   "cell_type": "code",
   "execution_count": 21,
   "id": "1a882ce1",
   "metadata": {
    "scrolled": true
   },
   "outputs": [
    {
     "data": {
      "image/png": "[encoded data removed]",
      "text/plain": [
       "<Figure size 432x288 with 1 Axes>"
      ]
     },
     "metadata": {
      "needs_background": "light"
     },
     "output_type": "display_data"
    }
   ],
   "source": [
    "hist_hour = full_merge['order_hour_of_day'].plot.hist(bins = 24)"
   ]
  },
  {
   "cell_type": "code",
   "execution_count": 22,
   "id": "8234e050",
   "metadata": {},
   "outputs": [],
   "source": [
    "bar.figure.savefig(os.path.join(path, 'bar_4_9.png'))"
   ]
  },
  {
   "cell_type": "markdown",
   "id": "8e12f5df",
   "metadata": {},
   "source": [
    "# The histogram shows normal or symmetical distribution of sales, which means the median, mean and mode are equal"
   ]
  },
  {
   "cell_type": "code",
   "execution_count": 23,
   "id": "8f71c0f2",
   "metadata": {},
   "outputs": [
    {
     "data": {
      "image/png": "[encoded data removed]",
      "text/plain": [
       "<Figure size 432x288 with 1 Axes>"
      ]
     },
     "metadata": {
      "needs_background": "light"
     },
     "output_type": "display_data"
    }
   ],
   "source": [
    "hist_hour = full_merge['order_dow'].plot.hist(bins = 24)"
   ]
  },
  {
   "cell_type": "code",
   "execution_count": 24,
   "id": "6b638cf8",
   "metadata": {
    "scrolled": true
   },
   "outputs": [
    {
     "data": {
      "text/plain": [
       "0      218942\n",
       "1      115786\n",
       "2       69431\n",
       "3       51317\n",
       "4       53283\n",
       "5       88057\n",
       "6      290770\n",
       "7      891928\n",
       "8     1719952\n",
       "9     2456661\n",
       "10    2764390\n",
       "11    2738585\n",
       "12    2620800\n",
       "13    2663272\n",
       "14    2691563\n",
       "15    2664522\n",
       "16    2537469\n",
       "17    2089452\n",
       "18    1637922\n",
       "19    1259382\n",
       "20     977017\n",
       "21     796362\n",
       "22     634737\n",
       "23     402612\n",
       "Name: order_hour_of_day, dtype: int64"
      ]
     },
     "execution_count": 24,
     "metadata": {},
     "output_type": "execute_result"
    }
   ],
   "source": [
    "# Check histogram accuracy\n",
    "\n",
    "full_merge['order_hour_of_day'].value_counts(dropna=False).sort_index()"
   ]
  },
  {
   "cell_type": "markdown",
   "id": "833fa4f0",
   "metadata": {},
   "source": [
    "# Creating a bar chart from the “loyalty_flag” column."
   ]
  },
  {
   "cell_type": "code",
   "execution_count": 25,
   "id": "02b69364",
   "metadata": {},
   "outputs": [
    {
     "data": {
      "text/plain": [
       "<AxesSubplot:>"
      ]
     },
     "execution_count": 25,
     "metadata": {},
     "output_type": "execute_result"
    },
    {
     "data": {
      "image/png": "[encoded data removed]",
      "text/plain": [
       "<Figure size 432x288 with 1 Axes>"
      ]
     },
     "metadata": {
      "needs_background": "light"
     },
     "output_type": "display_data"
    }
   ],
   "source": [
    "full_merge['loyalty_flag'].value_counts().plot.bar()"
   ]
  },
  {
   "cell_type": "code",
   "execution_count": 26,
   "id": "3ac9ee0b",
   "metadata": {
    "scrolled": true
   },
   "outputs": [
    {
     "data": {
      "image/png": "[encoded data removed]",
      "text/plain": [
       "<Figure size 432x288 with 1 Axes>"
      ]
     },
     "metadata": {
      "needs_background": "light"
     },
     "output_type": "display_data"
    }
   ],
   "source": [
    "bar_loyalty = full_merge['loyalty_flag'].value_counts().plot.bar()"
   ]
  },
  {
   "cell_type": "markdown",
   "id": "69d0cf65",
   "metadata": {},
   "source": [
    "# Checking whether there’s a difference in expenditure (the “prices” column) depending on the hour of the day."
   ]
  },
  {
   "cell_type": "code",
   "execution_count": 27,
   "id": "90b17e90",
   "metadata": {},
   "outputs": [],
   "source": [
    "# Set the seed\n",
    "\n",
    "np.random.seed(4)"
   ]
  },
  {
   "cell_type": "code",
   "execution_count": 28,
   "id": "b89c2a1f",
   "metadata": {},
   "outputs": [],
   "source": [
    "# Create a list holding True/False values to the test np.random.rand() <= 0.8\n",
    "\n",
    "dev_prices = np.random.rand(len(full_merge)) <= 0.8"
   ]
  },
  {
   "cell_type": "code",
   "execution_count": 29,
   "id": "0659a2c5",
   "metadata": {},
   "outputs": [],
   "source": [
    "# Store 80% in the df big_prices\n",
    "\n",
    "big_prices = full_merge[dev_prices]"
   ]
  },
  {
   "cell_type": "code",
   "execution_count": 30,
   "id": "dba99642",
   "metadata": {},
   "outputs": [],
   "source": [
    "# Store 20% in the df small_prices\n",
    "\n",
    "small_prices = full_merge[~dev_prices]"
   ]
  },
  {
   "cell_type": "code",
   "execution_count": 31,
   "id": "842e429d",
   "metadata": {},
   "outputs": [
    {
     "data": {
      "text/plain": [
       "32434212"
      ]
     },
     "execution_count": 31,
     "metadata": {},
     "output_type": "execute_result"
    }
   ],
   "source": [
    "# Check code execution accuracy\n",
    "\n",
    "len(full_merge)"
   ]
  },
  {
   "cell_type": "code",
   "execution_count": 32,
   "id": "8b06addc",
   "metadata": {},
   "outputs": [
    {
     "data": {
      "text/plain": [
       "32434212"
      ]
     },
     "execution_count": 32,
     "metadata": {},
     "output_type": "execute_result"
    }
   ],
   "source": [
    "len(big_prices) + len(small_prices)"
   ]
  },
  {
   "cell_type": "code",
   "execution_count": 33,
   "id": "35f4d479",
   "metadata": {},
   "outputs": [
    {
     "data": {
      "text/plain": [
       "32434212"
      ]
     },
     "execution_count": 33,
     "metadata": {},
     "output_type": "execute_result"
    }
   ],
   "source": [
    "len(big_prices) + len(small_prices)"
   ]
  },
  {
   "cell_type": "code",
   "execution_count": 34,
   "id": "0aba56c1",
   "metadata": {},
   "outputs": [],
   "source": [
    "# Reduce output to necessary columns only\n",
    "\n",
    "full_merge_prices_hour = small_prices[['order_hour_of_day', 'prices']]"
   ]
  },
  {
   "cell_type": "code",
   "execution_count": 35,
   "id": "fbb4de93",
   "metadata": {
    "scrolled": true
   },
   "outputs": [
    {
     "data": {
      "image/png": "[encoded data removed]",
      "text/plain": [
       "<Figure size 432x288 with 1 Axes>"
      ]
     },
     "metadata": {
      "needs_background": "light"
     },
     "output_type": "display_data"
    }
   ],
   "source": [
    "# Create line chart\n",
    "\n",
    "line_prices_hour = sns.lineplot(data = full_merge_prices_hour, x = 'order_hour_of_day', y = 'prices')"
   ]
  },
  {
   "cell_type": "markdown",
   "id": "1f7a2dd8",
   "metadata": {},
   "source": [
    "# Determining whether there’s a connection between age and family situation"
   ]
  },
  {
   "cell_type": "code",
   "execution_count": 36,
   "id": "525de527",
   "metadata": {},
   "outputs": [],
   "source": [
    "# Set the seed\n",
    "\n",
    "np.random.seed(4)"
   ]
  },
  {
   "cell_type": "code",
   "execution_count": 37,
   "id": "8046cc56",
   "metadata": {},
   "outputs": [],
   "source": [
    "# Create a list holding True/False values to teh test np.random.rand() <= 0.7\n",
    "\n",
    "dev_age_status = np.random.rand(len(full_merge)) <= 0.7"
   ]
  },
  {
   "cell_type": "code",
   "execution_count": 38,
   "id": "9baf6b50",
   "metadata": {},
   "outputs": [],
   "source": [
    "# Store 70% in df big_age_status\n",
    "\n",
    "big_age_status = full_merge[dev_age_status]"
   ]
  },
  {
   "cell_type": "code",
   "execution_count": 39,
   "id": "d038ee45",
   "metadata": {},
   "outputs": [],
   "source": [
    "# Store 30% in df small_age_status\n",
    "\n",
    "small_age_status = full_merge[~dev_age_status]"
   ]
  },
  {
   "cell_type": "code",
   "execution_count": 40,
   "id": "ae0e2a48",
   "metadata": {},
   "outputs": [
    {
     "data": {
      "text/plain": [
       "32434212"
      ]
     },
     "execution_count": 40,
     "metadata": {},
     "output_type": "execute_result"
    }
   ],
   "source": [
    "# Check code accuracy\n",
    "\n",
    "len(full_merge)"
   ]
  },
  {
   "cell_type": "code",
   "execution_count": 41,
   "id": "01b93c45",
   "metadata": {},
   "outputs": [
    {
     "data": {
      "text/plain": [
       "32434212"
      ]
     },
     "execution_count": 41,
     "metadata": {},
     "output_type": "execute_result"
    }
   ],
   "source": [
    "len(big_age_status) + len(small_age_status)"
   ]
  },
  {
   "cell_type": "code",
   "execution_count": 42,
   "id": "e2e60c0c",
   "metadata": {},
   "outputs": [],
   "source": [
    "# Reduce output to necessary columns\n",
    "\n",
    "fm_age_status = small_age_status[['number_of_dependents', 'age']]"
   ]
  },
  {
   "cell_type": "code",
   "execution_count": 43,
   "id": "10ee2b9a",
   "metadata": {
    "scrolled": false
   },
   "outputs": [
    {
     "data": {
      "image/png": "[encoded data removed]",
      "text/plain": [
       "<Figure size 432x288 with 1 Axes>"
      ]
     },
     "metadata": {
      "needs_background": "light"
     },
     "output_type": "display_data"
    }
   ],
   "source": [
    "line_age_deps = sns.lineplot(data = fm_age_status, x = 'age', y = 'number_of_dependents')"
   ]
  },
  {
   "cell_type": "markdown",
   "id": "0f236d56",
   "metadata": {},
   "source": [
    "# Number of dependents vary with age, therefore there is no connection between age and number of dependents."
   ]
  },
  {
   "cell_type": "markdown",
   "id": "d4256fe2",
   "metadata": {},
   "source": [
    " # Exploring whether there’s a connection between age and spending power (income). "
   ]
  },
  {
   "cell_type": "code",
   "execution_count": 44,
   "id": "db6437fe",
   "metadata": {},
   "outputs": [],
   "source": [
    "# Seed and subsets previously created, new df's with appropriate names will be created.\n",
    "\n",
    "big_spending_power = big_age_status"
   ]
  },
  {
   "cell_type": "code",
   "execution_count": 45,
   "id": "e9945f99",
   "metadata": {},
   "outputs": [],
   "source": [
    "small_spending_power = small_age_status"
   ]
  },
  {
   "cell_type": "code",
   "execution_count": 46,
   "id": "68f57fc6",
   "metadata": {},
   "outputs": [
    {
     "data": {
      "text/plain": [
       "32434212"
      ]
     },
     "execution_count": 46,
     "metadata": {},
     "output_type": "execute_result"
    }
   ],
   "source": [
    "# Check code accuracy\n",
    "\n",
    "len(full_merge)"
   ]
  },
  {
   "cell_type": "code",
   "execution_count": 47,
   "id": "77a4aa10",
   "metadata": {},
   "outputs": [
    {
     "data": {
      "text/plain": [
       "32434212"
      ]
     },
     "execution_count": 47,
     "metadata": {},
     "output_type": "execute_result"
    }
   ],
   "source": [
    "len(big_spending_power) + len(small_spending_power)"
   ]
  },
  {
   "cell_type": "code",
   "execution_count": 48,
   "id": "c0cd7a04",
   "metadata": {},
   "outputs": [],
   "source": [
    "# Reduce output to necessary columns\n",
    "\n",
    "fm_spending_power = small_spending_power[['age', 'income']]"
   ]
  },
  {
   "cell_type": "code",
   "execution_count": 49,
   "id": "24d0d744",
   "metadata": {
    "scrolled": true
   },
   "outputs": [
    {
     "data": {
      "image/png": "[encoded data removed]",
      "text/plain": [
       "<Figure size 432x288 with 1 Axes>"
      ]
     },
     "metadata": {
      "needs_background": "light"
     },
     "output_type": "display_data"
    }
   ],
   "source": [
    "# Create scatterplot\n",
    "\n",
    "scatter_spending_power = sns.scatterplot(x = 'age', y = 'income', data = fm_spending_power)"
   ]
  },
  {
   "cell_type": "code",
   "execution_count": 50,
   "id": "bad228c1",
   "metadata": {},
   "outputs": [
    {
     "data": {
      "image/png": "[encoded data removed]",
      "text/plain": [
       "<Figure size 432x288 with 1 Axes>"
      ]
     },
     "metadata": {
      "needs_background": "light"
     },
     "output_type": "display_data"
    }
   ],
   "source": [
    "hist_income = full_merge['income'].plot.hist(bins = 24)"
   ]
  },
  {
   "cell_type": "markdown",
   "id": "5cc6e103",
   "metadata": {},
   "source": [
    "# The concentration of the burbbles as one moves to the right shows increase in age that is strongly and positively associated with increase in spending power (income). Therefore, spending power (income) increases with increase in age. "
   ]
  },
  {
   "cell_type": "code",
   "execution_count": null,
   "id": "6d971351",
   "metadata": {},
   "outputs": [],
   "source": [
    "product_pie_chart = df_products['price_range'].value_counts().sort_index().plot.pie(ylabel = 'Price range', autopct = '%1.1f%%')"
   ]
  },
  {
   "cell_type": "code",
   "execution_count": 8,
   "id": "994f94b1",
   "metadata": {},
   "outputs": [],
   "source": [
    "bar.figure.savefig(os.path.join(path, 'bar_4_9.png'))"
   ]
  },
  {
   "cell_type": "code",
   "execution_count": 59,
   "id": "90786fa7",
   "metadata": {},
   "outputs": [],
   "source": [
    "hist.figure.savefig(os.path.join(path, 'hist_4_9.png'))"
   ]
  },
  {
   "cell_type": "code",
   "execution_count": 51,
   "id": "fe3f9406",
   "metadata": {},
   "outputs": [],
   "source": [
    "hist_income.figure.savefig(os.path.join(path, 'hist_4_9_1.png'))"
   ]
  },
  {
   "cell_type": "code",
   "execution_count": 60,
   "id": "057930ed",
   "metadata": {},
   "outputs": [],
   "source": [
    "splot.figure.savefig(os.path.join(path, 'splot_4_9.png'))"
   ]
  },
  {
   "cell_type": "code",
   "execution_count": 61,
   "id": "e731a23c",
   "metadata": {},
   "outputs": [],
   "source": [
    "line.figure.savefig(os.path.join(path, 'line_4_9.png'))"
   ]
  },
  {
   "cell_type": "code",
   "execution_count": 9,
   "id": "25f6afb9",
   "metadata": {},
   "outputs": [],
   "source": [
    "hist_hour.figure.savefig(os.path.join(path, 'hist_hour_4_9.png'))"
   ]
  },
  {
   "cell_type": "code",
   "execution_count": 13,
   "id": "654ec2e3",
   "metadata": {},
   "outputs": [],
   "source": [
    "bar_loyalty.figure.savefig(os.path.join(path, 'bar_loyalty_4_9.png'))"
   ]
  },
  {
   "cell_type": "code",
   "execution_count": 65,
   "id": "50ceb950",
   "metadata": {},
   "outputs": [],
   "source": [
    "line_prices_hour.figure.savefig(os.path.join(path, 'line_prices_hour_4_9.png'))"
   ]
  },
  {
   "cell_type": "code",
   "execution_count": 66,
   "id": "2836d056",
   "metadata": {},
   "outputs": [],
   "source": [
    "line_age_deps.figure.savefig(os.path.join(path, 'line_age_deps_4_9.png'))"
   ]
  },
  {
   "cell_type": "code",
   "execution_count": 67,
   "id": "96c4609d",
   "metadata": {},
   "outputs": [],
   "source": [
    "scatter_spending_power.figure.savefig(os.path.join(path,'scatter_spending_power_4_9.png'))"
   ]
  },
  {
   "cell_type": "code",
   "execution_count": 68,
   "id": "b745c16f",
   "metadata": {},
   "outputs": [],
   "source": [
    "full_merge.to_pickle(os.path.join(path, 'full_mergedd.pkl'))"
   ]
  }
 ],
 "metadata": {
  "kernelspec": {
   "display_name": "Python 3 (ipykernel)",
   "language": "python",
   "name": "python3"
  },
  "language_info": {
   "codemirror_mode": {
    "name": "ipython",
    "version": 3
   },
   "file_extension": ".py",
   "mimetype": "text/x-python",
   "name": "python",
   "nbconvert_exporter": "python",
   "pygments_lexer": "ipython3",
   "version": "3.9.12"
  }
 },
 "nbformat": 4,
 "nbformat_minor": 5
}
